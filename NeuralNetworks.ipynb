{
 "cells": [
  {
   "cell_type": "code",
   "execution_count": 1,
   "metadata": {},
   "outputs": [
    {
     "name": "stderr",
     "output_type": "stream",
     "text": [
      "Using TensorFlow backend.\n"
     ]
    }
   ],
   "source": [
    "\n",
    "import pandas as pd\n",
    "from keras.models import Sequential\n",
    "from keras.layers import Dense"
   ]
  },
  {
   "cell_type": "code",
   "execution_count": 3,
   "metadata": {},
   "outputs": [
    {
     "name": "stdout",
     "output_type": "stream",
     "text": [
      "Epoch 1/50\n",
      "27036/27036 [==============================] - 3s 113us/step - loss: 0.3240 - accuracy: 0.9157\n",
      "Epoch 2/50\n",
      "27036/27036 [==============================] - 3s 106us/step - loss: 0.2435 - accuracy: 0.9194\n",
      "Epoch 3/50\n",
      "27036/27036 [==============================] - 3s 102us/step - loss: 0.2215 - accuracy: 0.9290\n",
      "Epoch 4/50\n",
      "27036/27036 [==============================] - 3s 102us/step - loss: 0.2021 - accuracy: 0.9402\n",
      "Epoch 5/50\n",
      "27036/27036 [==============================] - 3s 106us/step - loss: 0.1965 - accuracy: 0.9429\n",
      "Epoch 6/50\n",
      "27036/27036 [==============================] - 3s 107us/step - loss: 0.1947 - accuracy: 0.9416\n",
      "Epoch 7/50\n",
      "27036/27036 [==============================] - 3s 114us/step - loss: 0.1906 - accuracy: 0.9420\n",
      "Epoch 8/50\n",
      "27036/27036 [==============================] - 3s 111us/step - loss: 0.1875 - accuracy: 0.9438\n",
      "Epoch 9/50\n",
      "27036/27036 [==============================] - 3s 105us/step - loss: 0.1829 - accuracy: 0.9457\n",
      "Epoch 10/50\n",
      "27036/27036 [==============================] - 3s 98us/step - loss: 0.1830 - accuracy: 0.9455\n",
      "Epoch 11/50\n",
      "27036/27036 [==============================] - 3s 98us/step - loss: 0.1821 - accuracy: 0.9459\n",
      "Epoch 12/50\n",
      "27036/27036 [==============================] - 3s 100us/step - loss: 0.1795 - accuracy: 0.9461\n",
      "Epoch 13/50\n",
      "27036/27036 [==============================] - 3s 100us/step - loss: 0.1811 - accuracy: 0.9461\n",
      "Epoch 14/50\n",
      "27036/27036 [==============================] - 3s 102us/step - loss: 0.1778 - accuracy: 0.9472\n",
      "Epoch 15/50\n",
      "27036/27036 [==============================] - 3s 102us/step - loss: 0.1785 - accuracy: 0.9456\n",
      "Epoch 16/50\n",
      "27036/27036 [==============================] - 3s 100us/step - loss: 0.1758 - accuracy: 0.9470\n",
      "Epoch 17/50\n",
      "27036/27036 [==============================] - 3s 100us/step - loss: 0.1751 - accuracy: 0.9471\n",
      "Epoch 18/50\n",
      "27036/27036 [==============================] - 3s 100us/step - loss: 0.1752 - accuracy: 0.9477\n",
      "Epoch 19/50\n",
      "27036/27036 [==============================] - 3s 100us/step - loss: 0.1777 - accuracy: 0.9475\n",
      "Epoch 20/50\n",
      "27036/27036 [==============================] - 3s 100us/step - loss: 0.1784 - accuracy: 0.9472\n",
      "Epoch 21/50\n",
      "27036/27036 [==============================] - 3s 100us/step - loss: 0.1742 - accuracy: 0.9471\n",
      "Epoch 22/50\n",
      "27036/27036 [==============================] - 3s 100us/step - loss: 0.1720 - accuracy: 0.9476\n",
      "Epoch 23/50\n",
      "27036/27036 [==============================] - 3s 102us/step - loss: 0.1759 - accuracy: 0.9485\n",
      "Epoch 24/50\n",
      "27036/27036 [==============================] - 3s 109us/step - loss: 0.1736 - accuracy: 0.9477\n",
      "Epoch 25/50\n",
      "27036/27036 [==============================] - 3s 103us/step - loss: 0.1711 - accuracy: 0.9487\n",
      "Epoch 26/50\n",
      "27036/27036 [==============================] - 3s 103us/step - loss: 0.1714 - accuracy: 0.9490\n",
      "Epoch 27/50\n",
      "27036/27036 [==============================] - 3s 115us/step - loss: 0.1712 - accuracy: 0.9491\n",
      "Epoch 28/50\n",
      "27036/27036 [==============================] - 3s 113us/step - loss: 0.1716 - accuracy: 0.9483\n",
      "Epoch 29/50\n",
      "27036/27036 [==============================] - 3s 101us/step - loss: 0.1767 - accuracy: 0.9497\n",
      "Epoch 30/50\n",
      "27036/27036 [==============================] - 3s 107us/step - loss: 0.1699 - accuracy: 0.9495\n",
      "Epoch 31/50\n",
      "27036/27036 [==============================] - 3s 108us/step - loss: 0.1697 - accuracy: 0.9497\n",
      "Epoch 32/50\n",
      "27036/27036 [==============================] - 3s 95us/step - loss: 0.1697 - accuracy: 0.9493\n",
      "Epoch 33/50\n",
      "27036/27036 [==============================] - 3s 97us/step - loss: 0.1708 - accuracy: 0.9487\n",
      "Epoch 34/50\n",
      "27036/27036 [==============================] - 3s 98us/step - loss: 0.1677 - accuracy: 0.9493\n",
      "Epoch 35/50\n",
      "27036/27036 [==============================] - 3s 98us/step - loss: 0.1701 - accuracy: 0.9491\n",
      "Epoch 36/50\n",
      "27036/27036 [==============================] - 3s 99us/step - loss: 0.1683 - accuracy: 0.9495\n",
      "Epoch 37/50\n",
      "27036/27036 [==============================] - 3s 98us/step - loss: 0.1676 - accuracy: 0.9492\n",
      "Epoch 38/50\n",
      "27036/27036 [==============================] - 3s 100us/step - loss: 0.1725 - accuracy: 0.9498\n",
      "Epoch 39/50\n",
      "27036/27036 [==============================] - 3s 98us/step - loss: 0.1681 - accuracy: 0.9500\n",
      "Epoch 40/50\n",
      "27036/27036 [==============================] - 3s 99us/step - loss: 0.1681 - accuracy: 0.9499\n",
      "Epoch 41/50\n",
      "27036/27036 [==============================] - 3s 100us/step - loss: 0.1686 - accuracy: 0.9493\n",
      "Epoch 42/50\n",
      "27036/27036 [==============================] - 3s 100us/step - loss: 0.1670 - accuracy: 0.9504\n",
      "Epoch 43/50\n",
      "27036/27036 [==============================] - 3s 99us/step - loss: 0.1662 - accuracy: 0.9502\n",
      "Epoch 44/50\n",
      "27036/27036 [==============================] - 3s 113us/step - loss: 0.1654 - accuracy: 0.9503\n",
      "Epoch 45/50\n",
      "27036/27036 [==============================] - 3s 110us/step - loss: 0.1673 - accuracy: 0.9501\n",
      "Epoch 46/50\n",
      "27036/27036 [==============================] - 3s 116us/step - loss: 0.1659 - accuracy: 0.9501\n",
      "Epoch 47/50\n",
      "27036/27036 [==============================] - 3s 108us/step - loss: 0.1645 - accuracy: 0.9504\n",
      "Epoch 48/50\n",
      "27036/27036 [==============================] - 3s 107us/step - loss: 0.1643 - accuracy: 0.9504\n",
      "Epoch 49/50\n",
      "27036/27036 [==============================] - 3s 113us/step - loss: 0.1729 - accuracy: 0.9493\n",
      "Epoch 50/50\n",
      "27036/27036 [==============================] - 3s 108us/step - loss: 0.1637 - accuracy: 0.9515\n",
      "27036/27036 [==============================] - 0s 16us/step\n",
      "\n",
      "accuracy: 94.83% \n"
     ]
    }
   ],
   "source": [
    "\n",
    "train = pd.read_csv('final_train.csv')\n",
    "train_copy = train.groupby('Patient_id').mean().fillna(train.mean())\n",
    "train_copy['SepsisLabel'][train_copy['SepsisLabel']!=0] = 1\n",
    "x = train_copy.drop(['SepsisLabel'],axis = 1)\n",
    "y = train_copy['SepsisLabel']\n",
    "\n",
    "\n",
    "\n",
    "model = Sequential()\n",
    "model.add(Dense(60,input_dim = 41,activation='relu'))\n",
    "model.add(Dense(105,activation = 'relu'))\n",
    "model.add(Dense(88,activation = 'relu'))\n",
    "model.add(Dense(10,activation = 'relu'))\n",
    "model.add(Dense(1,activation = 'sigmoid'))\n",
    "\n",
    "\n",
    "model.compile(loss=\"binary_crossentropy\",optimizer = \"adam\", metrics=['accuracy'])\n",
    "\n",
    "model.fit(x,y,epochs=50,batch_size = 10)\n",
    "\n",
    "scores = model.evaluate(x,y)\n",
    "print(\"\\n%s: %.2f%% \" % (model.metrics_names[1],scores[1]*100))\n"
   ]
  },
  {
   "cell_type": "code",
   "execution_count": 8,
   "metadata": {},
   "outputs": [
    {
     "name": "stdout",
     "output_type": "stream",
     "text": [
      "3/3 [==============================] - 0s 4ms/step\n",
      "\n",
      "accuracy: 0.00% \n"
     ]
    },
    {
     "data": {
      "text/plain": [
       "[nan, 0.0]"
      ]
     },
     "execution_count": 8,
     "metadata": {},
     "output_type": "execute_result"
    }
   ],
   "source": [
    "test = pd.read_csv('rawRawTest.csv')\n",
    "\n",
    "test_copy = test.groupby('Patient_id').mean().fillna(test.mean())\n",
    "test_copy['SepsisLabel'][test_copy['SepsisLabel']!=0] = 1\n",
    "x1 = test_copy.drop(['SepsisLabel'],axis = 1)\n",
    "y1 = test_copy['SepsisLabel']\n",
    "\n",
    "scores1 = model.evaluate(x1,y1)\n",
    "print(\"\\n%s: %.2f%% \" % (model.metrics_names[1],scores1[1]*100))\n",
    "scores1"
   ]
  },
  {
   "cell_type": "code",
   "execution_count": 9,
   "metadata": {},
   "outputs": [
    {
     "name": "stdout",
     "output_type": "stream",
     "text": [
      "Epoch 1/50\n",
      "10000/10000 [==============================] - 1s 127us/step - loss: 0.2843 - accuracy: 0.9374\n",
      "Epoch 2/50\n",
      "10000/10000 [==============================] - 1s 111us/step - loss: 0.2140 - accuracy: 0.9408\n",
      "Epoch 3/50\n",
      "10000/10000 [==============================] - 1s 111us/step - loss: 0.2063 - accuracy: 0.9407\n",
      "Epoch 4/50\n",
      "10000/10000 [==============================] - 1s 110us/step - loss: 0.2071 - accuracy: 0.9415\n",
      "Epoch 5/50\n",
      "10000/10000 [==============================] - 1s 142us/step - loss: 0.1952 - accuracy: 0.9408\n",
      "Epoch 6/50\n",
      "10000/10000 [==============================] - 1s 117us/step - loss: 0.1824 - accuracy: 0.9409\n",
      "Epoch 7/50\n",
      "10000/10000 [==============================] - 1s 111us/step - loss: 0.1771 - accuracy: 0.9408\n",
      "Epoch 8/50\n",
      "10000/10000 [==============================] - 1s 112us/step - loss: 0.1689 - accuracy: 0.9407\n",
      "Epoch 9/50\n",
      "10000/10000 [==============================] - 1s 119us/step - loss: 0.1756 - accuracy: 0.9408\n",
      "Epoch 10/50\n",
      "10000/10000 [==============================] - 1s 111us/step - loss: 0.1638 - accuracy: 0.9407\n",
      "Epoch 11/50\n",
      "10000/10000 [==============================] - 1s 112us/step - loss: 0.1609 - accuracy: 0.9408\n",
      "Epoch 12/50\n",
      "10000/10000 [==============================] - 1s 119us/step - loss: 0.1642 - accuracy: 0.9408\n",
      "Epoch 13/50\n",
      "10000/10000 [==============================] - 1s 112us/step - loss: 0.1643 - accuracy: 0.9407\n",
      "Epoch 14/50\n",
      "10000/10000 [==============================] - 1s 111us/step - loss: 0.1574 - accuracy: 0.9475\n",
      "Epoch 15/50\n",
      "10000/10000 [==============================] - 1s 112us/step - loss: 0.1560 - accuracy: 0.9478\n",
      "Epoch 16/50\n",
      "10000/10000 [==============================] - 1s 114us/step - loss: 0.1557 - accuracy: 0.95040s - loss: 0.1565 - ac\n",
      "Epoch 17/50\n",
      "10000/10000 [==============================] - 1s 112us/step - loss: 0.1540 - accuracy: 0.9471\n",
      "Epoch 18/50\n",
      "10000/10000 [==============================] - 1s 107us/step - loss: 0.1520 - accuracy: 0.9511\n",
      "Epoch 19/50\n",
      "10000/10000 [==============================] - 1s 131us/step - loss: 0.1640 - accuracy: 0.9498\n",
      "Epoch 20/50\n",
      "10000/10000 [==============================] - 1s 120us/step - loss: 0.1527 - accuracy: 0.9520\n",
      "Epoch 21/50\n",
      "10000/10000 [==============================] - 1s 121us/step - loss: 0.1505 - accuracy: 0.9524\n",
      "Epoch 22/50\n",
      "10000/10000 [==============================] - 1s 122us/step - loss: 0.1472 - accuracy: 0.9535\n",
      "Epoch 23/50\n",
      "10000/10000 [==============================] - 1s 132us/step - loss: 0.1505 - accuracy: 0.9519\n",
      "Epoch 24/50\n",
      "10000/10000 [==============================] - 1s 131us/step - loss: 0.1481 - accuracy: 0.9500\n",
      "Epoch 25/50\n",
      "10000/10000 [==============================] - 1s 121us/step - loss: 0.1497 - accuracy: 0.9480\n",
      "Epoch 26/50\n",
      "10000/10000 [==============================] - 1s 120us/step - loss: 0.1449 - accuracy: 0.9535\n",
      "Epoch 27/50\n",
      "10000/10000 [==============================] - 1s 133us/step - loss: 0.1512 - accuracy: 0.9532\n",
      "Epoch 28/50\n",
      "10000/10000 [==============================] - 1s 120us/step - loss: 0.1465 - accuracy: 0.9511\n",
      "Epoch 29/50\n",
      "10000/10000 [==============================] - 1s 126us/step - loss: 0.1438 - accuracy: 0.9541\n",
      "Epoch 30/50\n",
      "10000/10000 [==============================] - 1s 130us/step - loss: 0.1446 - accuracy: 0.9522\n",
      "Epoch 31/50\n",
      "10000/10000 [==============================] - 1s 127us/step - loss: 0.1429 - accuracy: 0.9546\n",
      "Epoch 32/50\n",
      "10000/10000 [==============================] - 1s 130us/step - loss: 0.1429 - accuracy: 0.9552\n",
      "Epoch 33/50\n",
      "10000/10000 [==============================] - 1s 117us/step - loss: 0.1437 - accuracy: 0.9551\n",
      "Epoch 34/50\n",
      "10000/10000 [==============================] - 1s 129us/step - loss: 0.1419 - accuracy: 0.9553\n",
      "Epoch 35/50\n",
      "10000/10000 [==============================] - 1s 128us/step - loss: 0.1424 - accuracy: 0.9549\n",
      "Epoch 36/50\n",
      "10000/10000 [==============================] - 1s 122us/step - loss: 0.1419 - accuracy: 0.9546\n",
      "Epoch 37/50\n",
      "10000/10000 [==============================] - 1s 115us/step - loss: 0.1424 - accuracy: 0.9553\n",
      "Epoch 38/50\n",
      "10000/10000 [==============================] - 1s 116us/step - loss: 0.1408 - accuracy: 0.9542\n",
      "Epoch 39/50\n",
      "10000/10000 [==============================] - 1s 117us/step - loss: 0.1387 - accuracy: 0.9558\n",
      "Epoch 40/50\n",
      "10000/10000 [==============================] - 1s 116us/step - loss: 0.1379 - accuracy: 0.9558\n",
      "Epoch 41/50\n",
      "10000/10000 [==============================] - 1s 117us/step - loss: 0.1392 - accuracy: 0.9564\n",
      "Epoch 42/50\n",
      "10000/10000 [==============================] - 1s 120us/step - loss: 0.1385 - accuracy: 0.9557\n",
      "Epoch 43/50\n",
      "10000/10000 [==============================] - 1s 109us/step - loss: 0.1383 - accuracy: 0.9547\n",
      "Epoch 44/50\n",
      "10000/10000 [==============================] - 1s 108us/step - loss: 0.1392 - accuracy: 0.9549\n",
      "Epoch 45/50\n",
      "10000/10000 [==============================] - 1s 127us/step - loss: 0.1357 - accuracy: 0.9568\n",
      "Epoch 46/50\n",
      "10000/10000 [==============================] - 1s 110us/step - loss: 0.1357 - accuracy: 0.9562\n",
      "Epoch 47/50\n",
      "10000/10000 [==============================] - 1s 107us/step - loss: 0.1368 - accuracy: 0.9563\n",
      "Epoch 48/50\n",
      "10000/10000 [==============================] - 1s 115us/step - loss: 0.1359 - accuracy: 0.9584\n",
      "Epoch 49/50\n",
      "10000/10000 [==============================] - 1s 130us/step - loss: 0.1381 - accuracy: 0.9575\n",
      "Epoch 50/50\n",
      "10000/10000 [==============================] - 1s 116us/step - loss: 0.1362 - accuracy: 0.9568\n",
      "10000/10000 [==============================] - 0s 18us/step\n",
      "\n",
      "accuracy: 95.95% \n",
      "22480/22480 [==============================] - 0s 15us/step\n",
      "\n",
      "accuracy: 93.89% \n"
     ]
    }
   ],
   "source": [
    "\n",
    "import pandas as pd\n",
    "from keras.models import Sequential\n",
    "from keras.layers import Dense\n",
    "import numpy\n",
    "from sklearn.metrics import accuracy_score\n",
    "\n",
    "\n",
    "\n",
    "train = pd.read_csv('output.csv')\n",
    "train_copy = train.groupby('Patient_id').mean().fillna(train.mean())\n",
    "train_copy['SepsisLabel'][train_copy['SepsisLabel']!=0] = 1\n",
    "x = train_copy.drop(['SepsisLabel'],axis = 1)\n",
    "y = train_copy['SepsisLabel']\n",
    "\n",
    "\n",
    "\n",
    "\n",
    "\n",
    "model = Sequential()\n",
    "model.add(Dense(60,input_dim = 41,activation='relu'))\n",
    "model.add(Dense(105,activation = 'relu'))\n",
    "model.add(Dense(88,activation = 'relu'))\n",
    "model.add(Dense(10,activation = 'relu'))\n",
    "model.add(Dense(1,activation = 'sigmoid'))\n",
    "\n",
    "\n",
    "model.compile(loss=\"binary_crossentropy\",optimizer = \"adam\", metrics=['accuracy'])\n",
    "\n",
    "model.fit(x,y,epochs=50,batch_size = 10)\n",
    "\n",
    "scores = model.evaluate(x,y)\n",
    "print(\"\\n%s: %.2f%% \" % (model.metrics_names[1],scores[1]*100))\n",
    "\n",
    "test = pd.read_csv('train_patient.csv')\n",
    "\n",
    "test_copy = test.groupby('Patient_id').mean().fillna(test.mean())\n",
    "test_copy['SepsisLabel'][test_copy['SepsisLabel']!=0] = 1\n",
    "x1 = test_copy.drop(['SepsisLabel'],axis = 1)\n",
    "y1 = test_copy['SepsisLabel']\n",
    "\n",
    "scores = model.evaluate(x1,y1)\n",
    "print(\"\\n%s: %.2f%% \" % (model.metrics_names[1],scores[1]*100))\n"
   ]
  },
  {
   "cell_type": "code",
   "execution_count": 10,
   "metadata": {},
   "outputs": [],
   "source": [
    "model = Sequential()\n",
    "model.add(Dense(60,input_dim = 41,activation='relu'))"
   ]
  },
  {
   "cell_type": "code",
   "execution_count": 11,
   "metadata": {},
   "outputs": [],
   "source": [
    "from keras.layers import Dense,LSTM,Embedding,Activation"
   ]
  },
  {
   "cell_type": "code",
   "execution_count": 12,
   "metadata": {},
   "outputs": [
    {
     "ename": "NameError",
     "evalue": "name 'LSMT' is not defined",
     "output_type": "error",
     "traceback": [
      "\u001b[1;31m---------------------------------------------------------------------------\u001b[0m",
      "\u001b[1;31mNameError\u001b[0m                                 Traceback (most recent call last)",
      "\u001b[1;32m<ipython-input-12-8477e1dadc9f>\u001b[0m in \u001b[0;36m<module>\u001b[1;34m\u001b[0m\n\u001b[0;32m      1\u001b[0m \u001b[0mmodel\u001b[0m \u001b[1;33m=\u001b[0m \u001b[0mSequential\u001b[0m\u001b[1;33m(\u001b[0m\u001b[1;33m)\u001b[0m\u001b[1;33m\u001b[0m\u001b[1;33m\u001b[0m\u001b[0m\n\u001b[1;32m----> 2\u001b[1;33m \u001b[0mmodel\u001b[0m\u001b[1;33m.\u001b[0m\u001b[0madd\u001b[0m\u001b[1;33m(\u001b[0m\u001b[0mLSMT\u001b[0m\u001b[1;33m(\u001b[0m\u001b[1;36m60\u001b[0m\u001b[1;33m,\u001b[0m\u001b[0minput_dim\u001b[0m \u001b[1;33m=\u001b[0m \u001b[1;36m41\u001b[0m\u001b[1;33m,\u001b[0m\u001b[0mactivation\u001b[0m\u001b[1;33m=\u001b[0m\u001b[1;34m'relu'\u001b[0m\u001b[1;33m)\u001b[0m\u001b[1;33m)\u001b[0m\u001b[1;33m\u001b[0m\u001b[1;33m\u001b[0m\u001b[0m\n\u001b[0m",
      "\u001b[1;31mNameError\u001b[0m: name 'LSMT' is not defined"
     ]
    }
   ],
   "source": [
    "model = Sequential()\n",
    "model.add(LSMT(60,input_dim = 41,activation='relu'))"
   ]
  },
  {
   "cell_type": "code",
   "execution_count": 13,
   "metadata": {},
   "outputs": [
    {
     "name": "stderr",
     "output_type": "stream",
     "text": [
      "c:\\users\\abdul baseer\\appdata\\local\\programs\\python\\python37\\lib\\site-packages\\ipykernel_launcher.py:2: UserWarning: The `input_dim` and `input_length` arguments in recurrent layers are deprecated. Use `input_shape` instead.\n",
      "  \n",
      "c:\\users\\abdul baseer\\appdata\\local\\programs\\python\\python37\\lib\\site-packages\\ipykernel_launcher.py:2: UserWarning: Update your `LSTM` call to the Keras 2 API: `LSTM(60, activation=\"relu\", input_shape=(None, 41))`\n",
      "  \n"
     ]
    }
   ],
   "source": [
    "model = Sequential()\n",
    "model.add(LSTM(60,input_dim = 41,activation='relu'))"
   ]
  },
  {
   "cell_type": "code",
   "execution_count": 14,
   "metadata": {},
   "outputs": [],
   "source": [
    "model.compile(loss=\"binary_crossentropy\",optimizer = \"adam\", metrics=['accuracy'])\n"
   ]
  },
  {
   "cell_type": "code",
   "execution_count": 15,
   "metadata": {},
   "outputs": [
    {
     "ename": "ValueError",
     "evalue": "Error when checking input: expected lstm_1_input to have 3 dimensions, but got array with shape (10000, 41)",
     "output_type": "error",
     "traceback": [
      "\u001b[1;31m---------------------------------------------------------------------------\u001b[0m",
      "\u001b[1;31mValueError\u001b[0m                                Traceback (most recent call last)",
      "\u001b[1;32m<ipython-input-15-b2f828941e79>\u001b[0m in \u001b[0;36m<module>\u001b[1;34m\u001b[0m\n\u001b[1;32m----> 1\u001b[1;33m \u001b[0mmodel\u001b[0m\u001b[1;33m.\u001b[0m\u001b[0mfit\u001b[0m\u001b[1;33m(\u001b[0m\u001b[0mx\u001b[0m\u001b[1;33m,\u001b[0m\u001b[0my\u001b[0m\u001b[1;33m,\u001b[0m\u001b[0mepochs\u001b[0m\u001b[1;33m=\u001b[0m\u001b[1;36m50\u001b[0m\u001b[1;33m,\u001b[0m\u001b[0mbatch_size\u001b[0m \u001b[1;33m=\u001b[0m \u001b[1;36m10\u001b[0m\u001b[1;33m)\u001b[0m\u001b[1;33m\u001b[0m\u001b[1;33m\u001b[0m\u001b[0m\n\u001b[0m",
      "\u001b[1;32mc:\\users\\abdul baseer\\appdata\\local\\programs\\python\\python37\\lib\\site-packages\\keras\\engine\\training.py\u001b[0m in \u001b[0;36mfit\u001b[1;34m(self, x, y, batch_size, epochs, verbose, callbacks, validation_split, validation_data, shuffle, class_weight, sample_weight, initial_epoch, steps_per_epoch, validation_steps, validation_freq, max_queue_size, workers, use_multiprocessing, **kwargs)\u001b[0m\n\u001b[0;32m   1152\u001b[0m             \u001b[0msample_weight\u001b[0m\u001b[1;33m=\u001b[0m\u001b[0msample_weight\u001b[0m\u001b[1;33m,\u001b[0m\u001b[1;33m\u001b[0m\u001b[1;33m\u001b[0m\u001b[0m\n\u001b[0;32m   1153\u001b[0m             \u001b[0mclass_weight\u001b[0m\u001b[1;33m=\u001b[0m\u001b[0mclass_weight\u001b[0m\u001b[1;33m,\u001b[0m\u001b[1;33m\u001b[0m\u001b[1;33m\u001b[0m\u001b[0m\n\u001b[1;32m-> 1154\u001b[1;33m             batch_size=batch_size)\n\u001b[0m\u001b[0;32m   1155\u001b[0m \u001b[1;33m\u001b[0m\u001b[0m\n\u001b[0;32m   1156\u001b[0m         \u001b[1;31m# Prepare validation data.\u001b[0m\u001b[1;33m\u001b[0m\u001b[1;33m\u001b[0m\u001b[1;33m\u001b[0m\u001b[0m\n",
      "\u001b[1;32mc:\\users\\abdul baseer\\appdata\\local\\programs\\python\\python37\\lib\\site-packages\\keras\\engine\\training.py\u001b[0m in \u001b[0;36m_standardize_user_data\u001b[1;34m(self, x, y, sample_weight, class_weight, check_array_lengths, batch_size)\u001b[0m\n\u001b[0;32m    577\u001b[0m             \u001b[0mfeed_input_shapes\u001b[0m\u001b[1;33m,\u001b[0m\u001b[1;33m\u001b[0m\u001b[1;33m\u001b[0m\u001b[0m\n\u001b[0;32m    578\u001b[0m             \u001b[0mcheck_batch_axis\u001b[0m\u001b[1;33m=\u001b[0m\u001b[1;32mFalse\u001b[0m\u001b[1;33m,\u001b[0m  \u001b[1;31m# Don't enforce the batch size.\u001b[0m\u001b[1;33m\u001b[0m\u001b[1;33m\u001b[0m\u001b[0m\n\u001b[1;32m--> 579\u001b[1;33m             exception_prefix='input')\n\u001b[0m\u001b[0;32m    580\u001b[0m \u001b[1;33m\u001b[0m\u001b[0m\n\u001b[0;32m    581\u001b[0m         \u001b[1;32mif\u001b[0m \u001b[0my\u001b[0m \u001b[1;32mis\u001b[0m \u001b[1;32mnot\u001b[0m \u001b[1;32mNone\u001b[0m\u001b[1;33m:\u001b[0m\u001b[1;33m\u001b[0m\u001b[1;33m\u001b[0m\u001b[0m\n",
      "\u001b[1;32mc:\\users\\abdul baseer\\appdata\\local\\programs\\python\\python37\\lib\\site-packages\\keras\\engine\\training_utils.py\u001b[0m in \u001b[0;36mstandardize_input_data\u001b[1;34m(data, names, shapes, check_batch_axis, exception_prefix)\u001b[0m\n\u001b[0;32m    133\u001b[0m                         \u001b[1;34m': expected '\u001b[0m \u001b[1;33m+\u001b[0m \u001b[0mnames\u001b[0m\u001b[1;33m[\u001b[0m\u001b[0mi\u001b[0m\u001b[1;33m]\u001b[0m \u001b[1;33m+\u001b[0m \u001b[1;34m' to have '\u001b[0m \u001b[1;33m+\u001b[0m\u001b[1;33m\u001b[0m\u001b[1;33m\u001b[0m\u001b[0m\n\u001b[0;32m    134\u001b[0m                         \u001b[0mstr\u001b[0m\u001b[1;33m(\u001b[0m\u001b[0mlen\u001b[0m\u001b[1;33m(\u001b[0m\u001b[0mshape\u001b[0m\u001b[1;33m)\u001b[0m\u001b[1;33m)\u001b[0m \u001b[1;33m+\u001b[0m \u001b[1;34m' dimensions, but got array '\u001b[0m\u001b[1;33m\u001b[0m\u001b[1;33m\u001b[0m\u001b[0m\n\u001b[1;32m--> 135\u001b[1;33m                         'with shape ' + str(data_shape))\n\u001b[0m\u001b[0;32m    136\u001b[0m                 \u001b[1;32mif\u001b[0m \u001b[1;32mnot\u001b[0m \u001b[0mcheck_batch_axis\u001b[0m\u001b[1;33m:\u001b[0m\u001b[1;33m\u001b[0m\u001b[1;33m\u001b[0m\u001b[0m\n\u001b[0;32m    137\u001b[0m                     \u001b[0mdata_shape\u001b[0m \u001b[1;33m=\u001b[0m \u001b[0mdata_shape\u001b[0m\u001b[1;33m[\u001b[0m\u001b[1;36m1\u001b[0m\u001b[1;33m:\u001b[0m\u001b[1;33m]\u001b[0m\u001b[1;33m\u001b[0m\u001b[1;33m\u001b[0m\u001b[0m\n",
      "\u001b[1;31mValueError\u001b[0m: Error when checking input: expected lstm_1_input to have 3 dimensions, but got array with shape (10000, 41)"
     ]
    }
   ],
   "source": [
    "model.fit(x,y,epochs=50,batch_size = 10)"
   ]
  },
  {
   "cell_type": "code",
   "execution_count": 16,
   "metadata": {},
   "outputs": [
    {
     "ename": "ValueError",
     "evalue": "Error when checking input: expected lstm_1_input to have 3 dimensions, but got array with shape (10000, 41)",
     "output_type": "error",
     "traceback": [
      "\u001b[1;31m---------------------------------------------------------------------------\u001b[0m",
      "\u001b[1;31mValueError\u001b[0m                                Traceback (most recent call last)",
      "\u001b[1;32m<ipython-input-16-a80f7891e544>\u001b[0m in \u001b[0;36m<module>\u001b[1;34m\u001b[0m\n\u001b[1;32m----> 1\u001b[1;33m \u001b[0mmodel\u001b[0m\u001b[1;33m.\u001b[0m\u001b[0mfit\u001b[0m\u001b[1;33m(\u001b[0m\u001b[0mx\u001b[0m\u001b[1;33m,\u001b[0m\u001b[0my\u001b[0m\u001b[1;33m,\u001b[0m\u001b[0mbatch_size\u001b[0m \u001b[1;33m=\u001b[0m \u001b[1;36m10\u001b[0m\u001b[1;33m)\u001b[0m\u001b[1;33m\u001b[0m\u001b[1;33m\u001b[0m\u001b[0m\n\u001b[0m",
      "\u001b[1;32mc:\\users\\abdul baseer\\appdata\\local\\programs\\python\\python37\\lib\\site-packages\\keras\\engine\\training.py\u001b[0m in \u001b[0;36mfit\u001b[1;34m(self, x, y, batch_size, epochs, verbose, callbacks, validation_split, validation_data, shuffle, class_weight, sample_weight, initial_epoch, steps_per_epoch, validation_steps, validation_freq, max_queue_size, workers, use_multiprocessing, **kwargs)\u001b[0m\n\u001b[0;32m   1152\u001b[0m             \u001b[0msample_weight\u001b[0m\u001b[1;33m=\u001b[0m\u001b[0msample_weight\u001b[0m\u001b[1;33m,\u001b[0m\u001b[1;33m\u001b[0m\u001b[1;33m\u001b[0m\u001b[0m\n\u001b[0;32m   1153\u001b[0m             \u001b[0mclass_weight\u001b[0m\u001b[1;33m=\u001b[0m\u001b[0mclass_weight\u001b[0m\u001b[1;33m,\u001b[0m\u001b[1;33m\u001b[0m\u001b[1;33m\u001b[0m\u001b[0m\n\u001b[1;32m-> 1154\u001b[1;33m             batch_size=batch_size)\n\u001b[0m\u001b[0;32m   1155\u001b[0m \u001b[1;33m\u001b[0m\u001b[0m\n\u001b[0;32m   1156\u001b[0m         \u001b[1;31m# Prepare validation data.\u001b[0m\u001b[1;33m\u001b[0m\u001b[1;33m\u001b[0m\u001b[1;33m\u001b[0m\u001b[0m\n",
      "\u001b[1;32mc:\\users\\abdul baseer\\appdata\\local\\programs\\python\\python37\\lib\\site-packages\\keras\\engine\\training.py\u001b[0m in \u001b[0;36m_standardize_user_data\u001b[1;34m(self, x, y, sample_weight, class_weight, check_array_lengths, batch_size)\u001b[0m\n\u001b[0;32m    577\u001b[0m             \u001b[0mfeed_input_shapes\u001b[0m\u001b[1;33m,\u001b[0m\u001b[1;33m\u001b[0m\u001b[1;33m\u001b[0m\u001b[0m\n\u001b[0;32m    578\u001b[0m             \u001b[0mcheck_batch_axis\u001b[0m\u001b[1;33m=\u001b[0m\u001b[1;32mFalse\u001b[0m\u001b[1;33m,\u001b[0m  \u001b[1;31m# Don't enforce the batch size.\u001b[0m\u001b[1;33m\u001b[0m\u001b[1;33m\u001b[0m\u001b[0m\n\u001b[1;32m--> 579\u001b[1;33m             exception_prefix='input')\n\u001b[0m\u001b[0;32m    580\u001b[0m \u001b[1;33m\u001b[0m\u001b[0m\n\u001b[0;32m    581\u001b[0m         \u001b[1;32mif\u001b[0m \u001b[0my\u001b[0m \u001b[1;32mis\u001b[0m \u001b[1;32mnot\u001b[0m \u001b[1;32mNone\u001b[0m\u001b[1;33m:\u001b[0m\u001b[1;33m\u001b[0m\u001b[1;33m\u001b[0m\u001b[0m\n",
      "\u001b[1;32mc:\\users\\abdul baseer\\appdata\\local\\programs\\python\\python37\\lib\\site-packages\\keras\\engine\\training_utils.py\u001b[0m in \u001b[0;36mstandardize_input_data\u001b[1;34m(data, names, shapes, check_batch_axis, exception_prefix)\u001b[0m\n\u001b[0;32m    133\u001b[0m                         \u001b[1;34m': expected '\u001b[0m \u001b[1;33m+\u001b[0m \u001b[0mnames\u001b[0m\u001b[1;33m[\u001b[0m\u001b[0mi\u001b[0m\u001b[1;33m]\u001b[0m \u001b[1;33m+\u001b[0m \u001b[1;34m' to have '\u001b[0m \u001b[1;33m+\u001b[0m\u001b[1;33m\u001b[0m\u001b[1;33m\u001b[0m\u001b[0m\n\u001b[0;32m    134\u001b[0m                         \u001b[0mstr\u001b[0m\u001b[1;33m(\u001b[0m\u001b[0mlen\u001b[0m\u001b[1;33m(\u001b[0m\u001b[0mshape\u001b[0m\u001b[1;33m)\u001b[0m\u001b[1;33m)\u001b[0m \u001b[1;33m+\u001b[0m \u001b[1;34m' dimensions, but got array '\u001b[0m\u001b[1;33m\u001b[0m\u001b[1;33m\u001b[0m\u001b[0m\n\u001b[1;32m--> 135\u001b[1;33m                         'with shape ' + str(data_shape))\n\u001b[0m\u001b[0;32m    136\u001b[0m                 \u001b[1;32mif\u001b[0m \u001b[1;32mnot\u001b[0m \u001b[0mcheck_batch_axis\u001b[0m\u001b[1;33m:\u001b[0m\u001b[1;33m\u001b[0m\u001b[1;33m\u001b[0m\u001b[0m\n\u001b[0;32m    137\u001b[0m                     \u001b[0mdata_shape\u001b[0m \u001b[1;33m=\u001b[0m \u001b[0mdata_shape\u001b[0m\u001b[1;33m[\u001b[0m\u001b[1;36m1\u001b[0m\u001b[1;33m:\u001b[0m\u001b[1;33m]\u001b[0m\u001b[1;33m\u001b[0m\u001b[1;33m\u001b[0m\u001b[0m\n",
      "\u001b[1;31mValueError\u001b[0m: Error when checking input: expected lstm_1_input to have 3 dimensions, but got array with shape (10000, 41)"
     ]
    }
   ],
   "source": [
    "model.fit(x,y,batch_size = 10)"
   ]
  },
  {
   "cell_type": "code",
   "execution_count": 17,
   "metadata": {},
   "outputs": [
    {
     "ename": "ValueError",
     "evalue": "Must pass 2-d input",
     "output_type": "error",
     "traceback": [
      "\u001b[1;31m---------------------------------------------------------------------------\u001b[0m",
      "\u001b[1;31mAttributeError\u001b[0m                            Traceback (most recent call last)",
      "\u001b[1;32mc:\\users\\abdul baseer\\appdata\\local\\programs\\python\\python37\\lib\\site-packages\\numpy\\core\\fromnumeric.py\u001b[0m in \u001b[0;36m_wrapfunc\u001b[1;34m(obj, method, *args, **kwds)\u001b[0m\n\u001b[0;32m     55\u001b[0m     \u001b[1;32mtry\u001b[0m\u001b[1;33m:\u001b[0m\u001b[1;33m\u001b[0m\u001b[1;33m\u001b[0m\u001b[0m\n\u001b[1;32m---> 56\u001b[1;33m         \u001b[1;32mreturn\u001b[0m \u001b[0mgetattr\u001b[0m\u001b[1;33m(\u001b[0m\u001b[0mobj\u001b[0m\u001b[1;33m,\u001b[0m \u001b[0mmethod\u001b[0m\u001b[1;33m)\u001b[0m\u001b[1;33m(\u001b[0m\u001b[1;33m*\u001b[0m\u001b[0margs\u001b[0m\u001b[1;33m,\u001b[0m \u001b[1;33m**\u001b[0m\u001b[0mkwds\u001b[0m\u001b[1;33m)\u001b[0m\u001b[1;33m\u001b[0m\u001b[1;33m\u001b[0m\u001b[0m\n\u001b[0m\u001b[0;32m     57\u001b[0m \u001b[1;33m\u001b[0m\u001b[0m\n",
      "\u001b[1;32mc:\\users\\abdul baseer\\appdata\\local\\programs\\python\\python37\\lib\\site-packages\\pandas\\core\\generic.py\u001b[0m in \u001b[0;36m__getattr__\u001b[1;34m(self, name)\u001b[0m\n\u001b[0;32m   5178\u001b[0m                 \u001b[1;32mreturn\u001b[0m \u001b[0mself\u001b[0m\u001b[1;33m[\u001b[0m\u001b[0mname\u001b[0m\u001b[1;33m]\u001b[0m\u001b[1;33m\u001b[0m\u001b[1;33m\u001b[0m\u001b[0m\n\u001b[1;32m-> 5179\u001b[1;33m             \u001b[1;32mreturn\u001b[0m \u001b[0mobject\u001b[0m\u001b[1;33m.\u001b[0m\u001b[0m__getattribute__\u001b[0m\u001b[1;33m(\u001b[0m\u001b[0mself\u001b[0m\u001b[1;33m,\u001b[0m \u001b[0mname\u001b[0m\u001b[1;33m)\u001b[0m\u001b[1;33m\u001b[0m\u001b[1;33m\u001b[0m\u001b[0m\n\u001b[0m\u001b[0;32m   5180\u001b[0m \u001b[1;33m\u001b[0m\u001b[0m\n",
      "\u001b[1;31mAttributeError\u001b[0m: 'DataFrame' object has no attribute 'reshape'",
      "\nDuring handling of the above exception, another exception occurred:\n",
      "\u001b[1;31mValueError\u001b[0m                                Traceback (most recent call last)",
      "\u001b[1;32m<ipython-input-17-17345236b2d0>\u001b[0m in \u001b[0;36m<module>\u001b[1;34m\u001b[0m\n\u001b[0;32m      1\u001b[0m \u001b[1;32mimport\u001b[0m \u001b[0mnumpy\u001b[0m \u001b[1;32mas\u001b[0m \u001b[0mnp\u001b[0m\u001b[1;33m\u001b[0m\u001b[1;33m\u001b[0m\u001b[0m\n\u001b[1;32m----> 2\u001b[1;33m \u001b[0mtrain\u001b[0m \u001b[1;33m=\u001b[0m \u001b[0mnp\u001b[0m\u001b[1;33m.\u001b[0m\u001b[0mreshape\u001b[0m\u001b[1;33m(\u001b[0m\u001b[0mtrain\u001b[0m\u001b[1;33m,\u001b[0m \u001b[1;33m(\u001b[0m\u001b[0mtrain\u001b[0m\u001b[1;33m.\u001b[0m\u001b[0mshape\u001b[0m\u001b[1;33m[\u001b[0m\u001b[1;36m0\u001b[0m\u001b[1;33m]\u001b[0m\u001b[1;33m,\u001b[0m \u001b[1;36m1\u001b[0m\u001b[1;33m,\u001b[0m \u001b[0mtrain\u001b[0m\u001b[1;33m.\u001b[0m\u001b[0mshape\u001b[0m\u001b[1;33m[\u001b[0m\u001b[1;36m1\u001b[0m\u001b[1;33m]\u001b[0m\u001b[1;33m)\u001b[0m\u001b[1;33m)\u001b[0m\u001b[1;33m\u001b[0m\u001b[1;33m\u001b[0m\u001b[0m\n\u001b[0m\u001b[0;32m      3\u001b[0m \u001b[0mtest\u001b[0m \u001b[1;33m=\u001b[0m \u001b[0mnp\u001b[0m\u001b[1;33m.\u001b[0m\u001b[0mreshape\u001b[0m\u001b[1;33m(\u001b[0m\u001b[0mtest\u001b[0m\u001b[1;33m,\u001b[0m \u001b[1;33m(\u001b[0m\u001b[0mtest\u001b[0m\u001b[1;33m.\u001b[0m\u001b[0mshape\u001b[0m\u001b[1;33m[\u001b[0m\u001b[1;36m0\u001b[0m\u001b[1;33m]\u001b[0m\u001b[1;33m,\u001b[0m \u001b[1;36m1\u001b[0m\u001b[1;33m,\u001b[0m \u001b[0mtest\u001b[0m\u001b[1;33m.\u001b[0m\u001b[0mshape\u001b[0m\u001b[1;33m[\u001b[0m\u001b[1;36m1\u001b[0m\u001b[1;33m]\u001b[0m\u001b[1;33m)\u001b[0m\u001b[1;33m)\u001b[0m\u001b[1;33m\u001b[0m\u001b[1;33m\u001b[0m\u001b[0m\n",
      "\u001b[1;32mc:\\users\\abdul baseer\\appdata\\local\\programs\\python\\python37\\lib\\site-packages\\numpy\\core\\fromnumeric.py\u001b[0m in \u001b[0;36mreshape\u001b[1;34m(a, newshape, order)\u001b[0m\n\u001b[0;32m    290\u001b[0m            [5, 6]])\n\u001b[0;32m    291\u001b[0m     \"\"\"\n\u001b[1;32m--> 292\u001b[1;33m     \u001b[1;32mreturn\u001b[0m \u001b[0m_wrapfunc\u001b[0m\u001b[1;33m(\u001b[0m\u001b[0ma\u001b[0m\u001b[1;33m,\u001b[0m \u001b[1;34m'reshape'\u001b[0m\u001b[1;33m,\u001b[0m \u001b[0mnewshape\u001b[0m\u001b[1;33m,\u001b[0m \u001b[0morder\u001b[0m\u001b[1;33m=\u001b[0m\u001b[0morder\u001b[0m\u001b[1;33m)\u001b[0m\u001b[1;33m\u001b[0m\u001b[1;33m\u001b[0m\u001b[0m\n\u001b[0m\u001b[0;32m    293\u001b[0m \u001b[1;33m\u001b[0m\u001b[0m\n\u001b[0;32m    294\u001b[0m \u001b[1;33m\u001b[0m\u001b[0m\n",
      "\u001b[1;32mc:\\users\\abdul baseer\\appdata\\local\\programs\\python\\python37\\lib\\site-packages\\numpy\\core\\fromnumeric.py\u001b[0m in \u001b[0;36m_wrapfunc\u001b[1;34m(obj, method, *args, **kwds)\u001b[0m\n\u001b[0;32m     64\u001b[0m     \u001b[1;31m# a downstream library like 'pandas'.\u001b[0m\u001b[1;33m\u001b[0m\u001b[1;33m\u001b[0m\u001b[1;33m\u001b[0m\u001b[0m\n\u001b[0;32m     65\u001b[0m     \u001b[1;32mexcept\u001b[0m \u001b[1;33m(\u001b[0m\u001b[0mAttributeError\u001b[0m\u001b[1;33m,\u001b[0m \u001b[0mTypeError\u001b[0m\u001b[1;33m)\u001b[0m\u001b[1;33m:\u001b[0m\u001b[1;33m\u001b[0m\u001b[1;33m\u001b[0m\u001b[0m\n\u001b[1;32m---> 66\u001b[1;33m         \u001b[1;32mreturn\u001b[0m \u001b[0m_wrapit\u001b[0m\u001b[1;33m(\u001b[0m\u001b[0mobj\u001b[0m\u001b[1;33m,\u001b[0m \u001b[0mmethod\u001b[0m\u001b[1;33m,\u001b[0m \u001b[1;33m*\u001b[0m\u001b[0margs\u001b[0m\u001b[1;33m,\u001b[0m \u001b[1;33m**\u001b[0m\u001b[0mkwds\u001b[0m\u001b[1;33m)\u001b[0m\u001b[1;33m\u001b[0m\u001b[1;33m\u001b[0m\u001b[0m\n\u001b[0m\u001b[0;32m     67\u001b[0m \u001b[1;33m\u001b[0m\u001b[0m\n\u001b[0;32m     68\u001b[0m \u001b[1;33m\u001b[0m\u001b[0m\n",
      "\u001b[1;32mc:\\users\\abdul baseer\\appdata\\local\\programs\\python\\python37\\lib\\site-packages\\numpy\\core\\fromnumeric.py\u001b[0m in \u001b[0;36m_wrapit\u001b[1;34m(obj, method, *args, **kwds)\u001b[0m\n\u001b[0;32m     48\u001b[0m         \u001b[1;32mif\u001b[0m \u001b[1;32mnot\u001b[0m \u001b[0misinstance\u001b[0m\u001b[1;33m(\u001b[0m\u001b[0mresult\u001b[0m\u001b[1;33m,\u001b[0m \u001b[0mmu\u001b[0m\u001b[1;33m.\u001b[0m\u001b[0mndarray\u001b[0m\u001b[1;33m)\u001b[0m\u001b[1;33m:\u001b[0m\u001b[1;33m\u001b[0m\u001b[1;33m\u001b[0m\u001b[0m\n\u001b[0;32m     49\u001b[0m             \u001b[0mresult\u001b[0m \u001b[1;33m=\u001b[0m \u001b[0masarray\u001b[0m\u001b[1;33m(\u001b[0m\u001b[0mresult\u001b[0m\u001b[1;33m)\u001b[0m\u001b[1;33m\u001b[0m\u001b[1;33m\u001b[0m\u001b[0m\n\u001b[1;32m---> 50\u001b[1;33m         \u001b[0mresult\u001b[0m \u001b[1;33m=\u001b[0m \u001b[0mwrap\u001b[0m\u001b[1;33m(\u001b[0m\u001b[0mresult\u001b[0m\u001b[1;33m)\u001b[0m\u001b[1;33m\u001b[0m\u001b[1;33m\u001b[0m\u001b[0m\n\u001b[0m\u001b[0;32m     51\u001b[0m     \u001b[1;32mreturn\u001b[0m \u001b[0mresult\u001b[0m\u001b[1;33m\u001b[0m\u001b[1;33m\u001b[0m\u001b[0m\n\u001b[0;32m     52\u001b[0m \u001b[1;33m\u001b[0m\u001b[0m\n",
      "\u001b[1;32mc:\\users\\abdul baseer\\appdata\\local\\programs\\python\\python37\\lib\\site-packages\\pandas\\core\\generic.py\u001b[0m in \u001b[0;36m__array_wrap__\u001b[1;34m(self, result, context)\u001b[0m\n\u001b[0;32m   1997\u001b[0m     \u001b[1;32mdef\u001b[0m \u001b[0m__array_wrap__\u001b[0m\u001b[1;33m(\u001b[0m\u001b[0mself\u001b[0m\u001b[1;33m,\u001b[0m \u001b[0mresult\u001b[0m\u001b[1;33m,\u001b[0m \u001b[0mcontext\u001b[0m\u001b[1;33m=\u001b[0m\u001b[1;32mNone\u001b[0m\u001b[1;33m)\u001b[0m\u001b[1;33m:\u001b[0m\u001b[1;33m\u001b[0m\u001b[1;33m\u001b[0m\u001b[0m\n\u001b[0;32m   1998\u001b[0m         \u001b[0md\u001b[0m \u001b[1;33m=\u001b[0m \u001b[0mself\u001b[0m\u001b[1;33m.\u001b[0m\u001b[0m_construct_axes_dict\u001b[0m\u001b[1;33m(\u001b[0m\u001b[0mself\u001b[0m\u001b[1;33m.\u001b[0m\u001b[0m_AXIS_ORDERS\u001b[0m\u001b[1;33m,\u001b[0m \u001b[0mcopy\u001b[0m\u001b[1;33m=\u001b[0m\u001b[1;32mFalse\u001b[0m\u001b[1;33m)\u001b[0m\u001b[1;33m\u001b[0m\u001b[1;33m\u001b[0m\u001b[0m\n\u001b[1;32m-> 1999\u001b[1;33m         \u001b[1;32mreturn\u001b[0m \u001b[0mself\u001b[0m\u001b[1;33m.\u001b[0m\u001b[0m_constructor\u001b[0m\u001b[1;33m(\u001b[0m\u001b[0mresult\u001b[0m\u001b[1;33m,\u001b[0m \u001b[1;33m**\u001b[0m\u001b[0md\u001b[0m\u001b[1;33m)\u001b[0m\u001b[1;33m.\u001b[0m\u001b[0m__finalize__\u001b[0m\u001b[1;33m(\u001b[0m\u001b[0mself\u001b[0m\u001b[1;33m)\u001b[0m\u001b[1;33m\u001b[0m\u001b[1;33m\u001b[0m\u001b[0m\n\u001b[0m\u001b[0;32m   2000\u001b[0m \u001b[1;33m\u001b[0m\u001b[0m\n\u001b[0;32m   2001\u001b[0m     \u001b[1;31m# ideally we would define this to avoid the getattr checks, but\u001b[0m\u001b[1;33m\u001b[0m\u001b[1;33m\u001b[0m\u001b[1;33m\u001b[0m\u001b[0m\n",
      "\u001b[1;32mc:\\users\\abdul baseer\\appdata\\local\\programs\\python\\python37\\lib\\site-packages\\pandas\\core\\frame.py\u001b[0m in \u001b[0;36m__init__\u001b[1;34m(self, data, index, columns, dtype, copy)\u001b[0m\n\u001b[0;32m    438\u001b[0m                 \u001b[0mmgr\u001b[0m \u001b[1;33m=\u001b[0m \u001b[0minit_dict\u001b[0m\u001b[1;33m(\u001b[0m\u001b[1;33m{\u001b[0m\u001b[0mdata\u001b[0m\u001b[1;33m.\u001b[0m\u001b[0mname\u001b[0m\u001b[1;33m:\u001b[0m \u001b[0mdata\u001b[0m\u001b[1;33m}\u001b[0m\u001b[1;33m,\u001b[0m \u001b[0mindex\u001b[0m\u001b[1;33m,\u001b[0m \u001b[0mcolumns\u001b[0m\u001b[1;33m,\u001b[0m \u001b[0mdtype\u001b[0m\u001b[1;33m=\u001b[0m\u001b[0mdtype\u001b[0m\u001b[1;33m)\u001b[0m\u001b[1;33m\u001b[0m\u001b[1;33m\u001b[0m\u001b[0m\n\u001b[0;32m    439\u001b[0m             \u001b[1;32melse\u001b[0m\u001b[1;33m:\u001b[0m\u001b[1;33m\u001b[0m\u001b[1;33m\u001b[0m\u001b[0m\n\u001b[1;32m--> 440\u001b[1;33m                 \u001b[0mmgr\u001b[0m \u001b[1;33m=\u001b[0m \u001b[0minit_ndarray\u001b[0m\u001b[1;33m(\u001b[0m\u001b[0mdata\u001b[0m\u001b[1;33m,\u001b[0m \u001b[0mindex\u001b[0m\u001b[1;33m,\u001b[0m \u001b[0mcolumns\u001b[0m\u001b[1;33m,\u001b[0m \u001b[0mdtype\u001b[0m\u001b[1;33m=\u001b[0m\u001b[0mdtype\u001b[0m\u001b[1;33m,\u001b[0m \u001b[0mcopy\u001b[0m\u001b[1;33m=\u001b[0m\u001b[0mcopy\u001b[0m\u001b[1;33m)\u001b[0m\u001b[1;33m\u001b[0m\u001b[1;33m\u001b[0m\u001b[0m\n\u001b[0m\u001b[0;32m    441\u001b[0m \u001b[1;33m\u001b[0m\u001b[0m\n\u001b[0;32m    442\u001b[0m         \u001b[1;31m# For data is list-like, or Iterable (will consume into list)\u001b[0m\u001b[1;33m\u001b[0m\u001b[1;33m\u001b[0m\u001b[1;33m\u001b[0m\u001b[0m\n",
      "\u001b[1;32mc:\\users\\abdul baseer\\appdata\\local\\programs\\python\\python37\\lib\\site-packages\\pandas\\core\\internals\\construction.py\u001b[0m in \u001b[0;36minit_ndarray\u001b[1;34m(values, index, columns, dtype, copy)\u001b[0m\n\u001b[0;32m    169\u001b[0m     \u001b[1;31m# by definition an array here\u001b[0m\u001b[1;33m\u001b[0m\u001b[1;33m\u001b[0m\u001b[1;33m\u001b[0m\u001b[0m\n\u001b[0;32m    170\u001b[0m     \u001b[1;31m# the dtypes will be coerced to a single dtype\u001b[0m\u001b[1;33m\u001b[0m\u001b[1;33m\u001b[0m\u001b[1;33m\u001b[0m\u001b[0m\n\u001b[1;32m--> 171\u001b[1;33m     \u001b[0mvalues\u001b[0m \u001b[1;33m=\u001b[0m \u001b[0mprep_ndarray\u001b[0m\u001b[1;33m(\u001b[0m\u001b[0mvalues\u001b[0m\u001b[1;33m,\u001b[0m \u001b[0mcopy\u001b[0m\u001b[1;33m=\u001b[0m\u001b[0mcopy\u001b[0m\u001b[1;33m)\u001b[0m\u001b[1;33m\u001b[0m\u001b[1;33m\u001b[0m\u001b[0m\n\u001b[0m\u001b[0;32m    172\u001b[0m \u001b[1;33m\u001b[0m\u001b[0m\n\u001b[0;32m    173\u001b[0m     \u001b[1;32mif\u001b[0m \u001b[0mdtype\u001b[0m \u001b[1;32mis\u001b[0m \u001b[1;32mnot\u001b[0m \u001b[1;32mNone\u001b[0m\u001b[1;33m:\u001b[0m\u001b[1;33m\u001b[0m\u001b[1;33m\u001b[0m\u001b[0m\n",
      "\u001b[1;32mc:\\users\\abdul baseer\\appdata\\local\\programs\\python\\python37\\lib\\site-packages\\pandas\\core\\internals\\construction.py\u001b[0m in \u001b[0;36mprep_ndarray\u001b[1;34m(values, copy)\u001b[0m\n\u001b[0;32m    293\u001b[0m         \u001b[0mvalues\u001b[0m \u001b[1;33m=\u001b[0m \u001b[0mvalues\u001b[0m\u001b[1;33m.\u001b[0m\u001b[0mreshape\u001b[0m\u001b[1;33m(\u001b[0m\u001b[1;33m(\u001b[0m\u001b[0mvalues\u001b[0m\u001b[1;33m.\u001b[0m\u001b[0mshape\u001b[0m\u001b[1;33m[\u001b[0m\u001b[1;36m0\u001b[0m\u001b[1;33m]\u001b[0m\u001b[1;33m,\u001b[0m \u001b[1;36m1\u001b[0m\u001b[1;33m)\u001b[0m\u001b[1;33m)\u001b[0m\u001b[1;33m\u001b[0m\u001b[1;33m\u001b[0m\u001b[0m\n\u001b[0;32m    294\u001b[0m     \u001b[1;32melif\u001b[0m \u001b[0mvalues\u001b[0m\u001b[1;33m.\u001b[0m\u001b[0mndim\u001b[0m \u001b[1;33m!=\u001b[0m \u001b[1;36m2\u001b[0m\u001b[1;33m:\u001b[0m\u001b[1;33m\u001b[0m\u001b[1;33m\u001b[0m\u001b[0m\n\u001b[1;32m--> 295\u001b[1;33m         \u001b[1;32mraise\u001b[0m \u001b[0mValueError\u001b[0m\u001b[1;33m(\u001b[0m\u001b[1;34m\"Must pass 2-d input\"\u001b[0m\u001b[1;33m)\u001b[0m\u001b[1;33m\u001b[0m\u001b[1;33m\u001b[0m\u001b[0m\n\u001b[0m\u001b[0;32m    296\u001b[0m \u001b[1;33m\u001b[0m\u001b[0m\n\u001b[0;32m    297\u001b[0m     \u001b[1;32mreturn\u001b[0m \u001b[0mvalues\u001b[0m\u001b[1;33m\u001b[0m\u001b[1;33m\u001b[0m\u001b[0m\n",
      "\u001b[1;31mValueError\u001b[0m: Must pass 2-d input"
     ]
    }
   ],
   "source": [
    "import numpy as np\n",
    "train = np.reshape(train, (train.shape[0], 1, train.shape[1]))\n",
    "test = np.reshape(test, (test.shape[0], 1, test.shape[1]))"
   ]
  },
  {
   "cell_type": "code",
   "execution_count": null,
   "metadata": {},
   "outputs": [],
   "source": []
  }
 ],
 "metadata": {
  "kernelspec": {
   "display_name": "Python 3",
   "language": "python",
   "name": "python3"
  },
  "language_info": {
   "codemirror_mode": {
    "name": "ipython",
    "version": 3
   },
   "file_extension": ".py",
   "mimetype": "text/x-python",
   "name": "python",
   "nbconvert_exporter": "python",
   "pygments_lexer": "ipython3",
   "version": "3.7.3"
  }
 },
 "nbformat": 4,
 "nbformat_minor": 2
}
